{
 "cells": [
  {
   "cell_type": "code",
   "execution_count": 1,
   "id": "d14fa7af",
   "metadata": {},
   "outputs": [],
   "source": [
    "from datasets import load_dataset_builder, load_dataset\n",
    "import json"
   ]
  },
  {
   "cell_type": "code",
   "execution_count": 2,
   "id": "bbc6d624",
   "metadata": {},
   "outputs": [],
   "source": [
    "target_dataset = \"ColumbiaNLP/FigLang2022SharedTask\""
   ]
  },
  {
   "cell_type": "markdown",
   "id": "e00f96bf",
   "metadata": {},
   "source": [
    "## Step0: Let's examine the data without committing to download it "
   ]
  },
  {
   "cell_type": "code",
   "execution_count": 3,
   "id": "9e2f4e53",
   "metadata": {},
   "outputs": [
    {
     "name": "stderr",
     "output_type": "stream",
     "text": [
      "Using custom data configuration ColumbiaNLP--FigLang2022SharedTask-b90ac1c68653c022\n"
     ]
    },
    {
     "name": "stdout",
     "output_type": "stream",
     "text": [
      "\n",
      "{'id': Value(dtype='int64', id=None), 'premise': Value(dtype='string', id=None), 'hypothesis': Value(dtype='string', id=None), 'label': Value(dtype='string', id=None), 'explanation': Value(dtype='string', id=None), 'split': Value(dtype='string', id=None), 'type': Value(dtype='string', id=None), 'idiom': Value(dtype='string', id=None)}\n"
     ]
    }
   ],
   "source": [
    "ds_builder = load_dataset_builder(target_dataset)\n",
    "\n",
    "# Inspect dataset description\n",
    "print(ds_builder.info.description)\n",
    "\n",
    "# # Inspect dataset features\n",
    "print(ds_builder.info.features)"
   ]
  },
  {
   "cell_type": "markdown",
   "id": "86922cb3",
   "metadata": {},
   "source": [
    "## Step1: Load and preprocess"
   ]
  },
  {
   "cell_type": "code",
   "execution_count": 4,
   "id": "a41c5a0e",
   "metadata": {},
   "outputs": [
    {
     "name": "stderr",
     "output_type": "stream",
     "text": [
      "Using custom data configuration ColumbiaNLP--FigLang2022SharedTask-b90ac1c68653c022\n",
      "Reusing dataset json (/Users/yulinggu/.cache/huggingface/datasets/ColumbiaNLP___json/ColumbiaNLP--FigLang2022SharedTask-b90ac1c68653c022/0.0.0/a3e658c4731e59120d44081ac10bf85dc7e1388126b92338344ce9661907f253)\n"
     ]
    },
    {
     "data": {
      "application/vnd.jupyter.widget-view+json": {
       "model_id": "501b15ecc5c142fa841c51e5535a5554",
       "version_major": 2,
       "version_minor": 0
      },
      "text/plain": [
       "  0%|          | 0/1 [00:00<?, ?it/s]"
      ]
     },
     "metadata": {},
     "output_type": "display_data"
    }
   ],
   "source": [
    "dataset = load_dataset(target_dataset)"
   ]
  },
  {
   "cell_type": "code",
   "execution_count": 5,
   "id": "372d7b98",
   "metadata": {},
   "outputs": [
    {
     "data": {
      "text/plain": [
       "DatasetDict({\n",
       "    train: Dataset({\n",
       "        features: ['id', 'premise', 'hypothesis', 'label', 'explanation', 'split', 'type', 'idiom'],\n",
       "        num_rows: 7534\n",
       "    })\n",
       "})"
      ]
     },
     "execution_count": 5,
     "metadata": {},
     "output_type": "execute_result"
    }
   ],
   "source": [
    "dataset"
   ]
  },
  {
   "cell_type": "code",
   "execution_count": 6,
   "id": "cb881c88",
   "metadata": {},
   "outputs": [
    {
     "data": {
      "text/plain": [
       "{'Contradiction', 'Entailment'}"
      ]
     },
     "execution_count": 6,
     "metadata": {},
     "output_type": "execute_result"
    }
   ],
   "source": [
    "set(dataset['train']['label'])"
   ]
  },
  {
   "cell_type": "code",
   "execution_count": 7,
   "id": "d38e5246",
   "metadata": {},
   "outputs": [],
   "source": [
    "def add_combined_cols(entry):\n",
    "    \n",
    "    premise = entry[\"premise\"].strip()\n",
    "    hypothesis = entry[\"hypothesis\"].strip()\n",
    "    \n",
    "    if not premise.endswith(\".\"):\n",
    "        premise += \".\"\n",
    "    assert(premise.endswith(\".\"))\n",
    "    if not hypothesis.endswith(\".\"):\n",
    "        hypothesis += \".\"\n",
    "    assert(hypothesis.endswith(\".\"))\n",
    "    \n",
    "    entry[\"premise_hypothesis\"] = 'Premise: ' + premise + ' Hypothesis: ' + hypothesis\n",
    "    entry[\"label_explanation\"] = 'Label: ' + entry[\"label\"] + '. Explanation: ' + entry[\"explanation\"]\n",
    "    return entry"
   ]
  },
  {
   "cell_type": "code",
   "execution_count": 8,
   "id": "cdbcd9ab",
   "metadata": {},
   "outputs": [
    {
     "name": "stderr",
     "output_type": "stream",
     "text": [
      "Loading cached processed dataset at /Users/yulinggu/.cache/huggingface/datasets/ColumbiaNLP___json/ColumbiaNLP--FigLang2022SharedTask-b90ac1c68653c022/0.0.0/a3e658c4731e59120d44081ac10bf85dc7e1388126b92338344ce9661907f253/cache-3e962b70f0346dce.arrow\n",
      "Loading cached split indices for dataset at /Users/yulinggu/.cache/huggingface/datasets/ColumbiaNLP___json/ColumbiaNLP--FigLang2022SharedTask-b90ac1c68653c022/0.0.0/a3e658c4731e59120d44081ac10bf85dc7e1388126b92338344ce9661907f253/cache-1b4ed73954418474.arrow and /Users/yulinggu/.cache/huggingface/datasets/ColumbiaNLP___json/ColumbiaNLP--FigLang2022SharedTask-b90ac1c68653c022/0.0.0/a3e658c4731e59120d44081ac10bf85dc7e1388126b92338344ce9661907f253/cache-eba25f89759be04b.arrow\n"
     ]
    }
   ],
   "source": [
    "# combine columns\n",
    "combined_cols_dataset = dataset['train'].map(add_combined_cols)\n",
    "\n",
    "# create train test split because given data has only train data\n",
    "# splits are shuffled by default\n",
    "dataset_train_test = combined_cols_dataset.train_test_split(test_size=0.2, seed=42)\n"
   ]
  },
  {
   "cell_type": "code",
   "execution_count": 9,
   "id": "58523ce9",
   "metadata": {},
   "outputs": [
    {
     "data": {
      "text/plain": [
       "DatasetDict({\n",
       "    train: Dataset({\n",
       "        features: ['id', 'premise', 'hypothesis', 'label', 'explanation', 'split', 'type', 'idiom', 'premise_hypothesis', 'label_explanation'],\n",
       "        num_rows: 6027\n",
       "    })\n",
       "    test: Dataset({\n",
       "        features: ['id', 'premise', 'hypothesis', 'label', 'explanation', 'split', 'type', 'idiom', 'premise_hypothesis', 'label_explanation'],\n",
       "        num_rows: 1507\n",
       "    })\n",
       "})"
      ]
     },
     "execution_count": 9,
     "metadata": {},
     "output_type": "execute_result"
    }
   ],
   "source": [
    "dataset_train_test"
   ]
  },
  {
   "cell_type": "code",
   "execution_count": 10,
   "id": "aa5c38c6",
   "metadata": {},
   "outputs": [],
   "source": [
    "#!mkdir ../figlang_lbv_data"
   ]
  },
  {
   "cell_type": "code",
   "execution_count": 11,
   "id": "a74ca40d",
   "metadata": {},
   "outputs": [
    {
     "data": {
      "application/vnd.jupyter.widget-view+json": {
       "model_id": "0515c5cf91194e44b766b886675c333b",
       "version_major": 2,
       "version_minor": 0
      },
      "text/plain": [
       "Creating json from Arrow format:   0%|          | 0/1 [00:00<?, ?ba/s]"
      ]
     },
     "metadata": {},
     "output_type": "display_data"
    },
    {
     "data": {
      "application/vnd.jupyter.widget-view+json": {
       "model_id": "2a7810aedcad4fbdb25c9a4dbf32f8bb",
       "version_major": 2,
       "version_minor": 0
      },
      "text/plain": [
       "Creating json from Arrow format:   0%|          | 0/1 [00:00<?, ?ba/s]"
      ]
     },
     "metadata": {},
     "output_type": "display_data"
    },
    {
     "data": {
      "text/plain": [
       "1223184"
      ]
     },
     "execution_count": 11,
     "metadata": {},
     "output_type": "execute_result"
    }
   ],
   "source": [
    "dataset_train_test['train'].to_json(\"../figlang_lbv_data/0_train_original.json\")\n",
    "dataset_train_test['test'].to_json(\"../figlang_lbv_data/0_val_original.json\")"
   ]
  },
  {
   "cell_type": "code",
   "execution_count": null,
   "id": "35ad2b60",
   "metadata": {},
   "outputs": [],
   "source": []
  }
 ],
 "metadata": {
  "kernelspec": {
   "display_name": "Python 3 (ipykernel)",
   "language": "python",
   "name": "python3"
  },
  "language_info": {
   "codemirror_mode": {
    "name": "ipython",
    "version": 3
   },
   "file_extension": ".py",
   "mimetype": "text/x-python",
   "name": "python",
   "nbconvert_exporter": "python",
   "pygments_lexer": "ipython3",
   "version": "3.9.15"
  }
 },
 "nbformat": 4,
 "nbformat_minor": 5
}
